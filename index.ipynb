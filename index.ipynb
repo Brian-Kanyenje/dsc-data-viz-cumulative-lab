{
 "cells": [
  {
   "cell_type": "markdown",
   "metadata": {},
   "source": [
    "# Data Visualization - Cumulative Lab\n",
    "\n",
    "## Introduction\n",
    "You've completed the data visualization section — excellent work. Now we're going to do some rudimentary analysis of Shakespeare's classic play: Macbeth! You will get practice working with lists and dictionaries, conditionals, visualizing data, and thinking analytically about data.\n",
    "\n",
    "## Objectives\n",
    "\n",
    "You will be able to:\n",
    "\n",
    "* Apply string methods to make changes to a string\n",
    "* Use a `for` loop to iterate over a collection\n",
    "* Assign values in a dictionary\n",
    "* Use data visualizations to present your findings\n",
    "\n",
    "## Your Task: Analyze the Text of Shakespeare's Macbeth\n",
    "\n",
    "![cover page of macbeth](https://curriculum-content.s3.amazonaws.com/data-science/images/macbeth.jpg)\n",
    "\n",
    "<span>Photo by <a href=\"https://unsplash.com/@voodoojava?utm_source=unsplash&amp;utm_medium=referral&amp;utm_content=creditCopyText\">Matt Riches</a> on <a href=\"https://unsplash.com/s/photos/shakespeare?utm_source=unsplash&amp;utm_medium=referral&amp;utm_content=creditCopyText\">Unsplash</a></span>\n",
    "\n",
    "### Business Understanding\n",
    "\n",
    "**Natural language processing** (also known as **NLP**) is a major subfield within data science. At its most advanced, NLP has helped us build interactive AI assistants like Siri and Alexa.\n",
    "\n",
    "Even in a simpler business context where you just need to summarize the contents of a dataset, text data often requires much more substantial preprocessing work compared to data that is already in a numeric format.\n",
    "\n",
    "One typical technique for understanding a text dataset is to find the **most common** or **least common** words. To do this, we need to build a ***Frequency Distribution*** table, just like when we were finding the mode of a dataset. We'll display the thousands of word frequencies as a **histogram**.\n",
    "\n",
    "Then we can find the mode (the word that appears most often), as well as the \"runner-up\" words, in order to describe a large text dataset with a minimal set of words and numbers. We'll display this information as a **bar graph** with the words as labels on the x-axis and the counts as the y-axis.\n",
    "\n",
    "### Data Understanding\n",
    "\n",
    "For this lab we'll be using the **full text of Shakespeare's Macbeth**. We will retrieve it for you from the [Project Gutenberg](https://www.gutenberg.org/) website in the format of a single (giant) string, containing over one hundred thousand characters. We'll refer to this string variously as the \"document\", \"corpus\", or \"text dataset\", all terms used frequently within NLP.\n",
    "\n",
    "We don't recommend that you try to print the entire string due to its length, but if you're curious about any particular segment, you can use string slicing just like any other string. E.g. `macbeth[1000:2000]` will select just the slice from the 1000th to the 2000th character.\n",
    "\n",
    "When counting the words, make sure you remove any punctuation and convert all words to lowercase. We want all of the following strings to be counted as instances of `\"is\"`:\n",
    "\n",
    " - `\"is\"`\n",
    " - `\"Is\"`\n",
    " - `\"is,\"`\n",
    " - `\"is!\"`\n",
    " - etc.\n",
    "\n",
    "### Requirements\n",
    "\n",
    "#### 1. Word Count Summary\n",
    "\n",
    "Extract each word from the document and print a count of all words.\n",
    "\n",
    "#### 2. Unique Word Count\n",
    "\n",
    "First, clean up the collection of words so all punctuation is removed and every word is lowercase. Then print a count of the unique words in that collection.\n",
    "\n",
    "#### 3. Frequency Table\n",
    "\n",
    "Using the cleaned collection of words, build a frequency table that has the words as keys and the counts of those words as values. From that frequency table, print the modal (most common) word as well as the least common word, along with their frequencies.\n",
    "\n",
    "#### 4. Visualizations\n",
    "\n",
    "**Histogram:** Using Matplotlib or Seaborn, create a histogram of all of the word frequencies in Macbeth.\n",
    "\n",
    "**Bar graph:** Using Matplotlib or Seaborn, create a bar graph of the 25 most common words in Macbeth, from the 1st to 25th most common.\n",
    "\n",
    "\n",
    "## Getting the Data\n",
    "Here we start by importing a Python package called `requests`. You'll see this package described in more detail in future lessons, but for now all you need to know is that it allows us to fetch data over the internet!\n",
    "\n",
    "We'll use it to pull the transcript of Macbeth from the Project Gutenberg website, specifically [this page](https://www.gutenberg.org/cache/epub/2264/pg2264.txt). We'll also preview a few details about what is now stored in the variable `macbeth`. As you can see, it's a string with 103,605 characters - the first 500 of which are printed below. "
   ]
  },
  {
   "cell_type": "code",
   "execution_count": 3,
   "metadata": {},
   "outputs": [],
   "source": [
    "# Run this cell without changes\n",
    "import numpy as np\n",
    "import matplotlib.pyplot as plt\n",
    "import seaborn as sns\n",
    "import requests\n",
    "\n",
    "sns.set_context(\"talk\")\n",
    "sns.set_style(\"whitegrid\")\n",
    "%matplotlib inline"
   ]
  },
  {
   "cell_type": "code",
   "execution_count": 4,
   "metadata": {},
   "outputs": [
    {
     "name": "stdout",
     "output_type": "stream",
     "text": [
      "Data type: <class 'str'>\n",
      "\n",
      "Number of characters: 122436\n",
      "\n",
      "First 500 characters:\n",
      "\r\n",
      "\r\n",
      "The Tragedie of Macbeth\r\n",
      "\r\n",
      "Actus Primus. Scoena Prima.\r\n",
      "\r\n",
      "Thunder and Lightning. Enter three Witches.\r\n",
      "\r\n",
      "  1. When shall we three meet againe?\r\n",
      "In Thunder, Lightning, or in Raine?\r\n",
      "  2. When the Hurley-burley's done,\r\n",
      "When the Battaile's lost, and wonne\r\n",
      "\r\n",
      "   3. That will be ere the set of Sunne\r\n",
      "\r\n",
      "   1. Where the place?\r\n",
      "  2. Vpon the Heath\r\n",
      "\r\n",
      "   3. There to meet with Macbeth\r\n",
      "\r\n",
      "   1. I come, Gray-Malkin\r\n",
      "\r\n",
      "   All. Padock calls anon: faire is foule, and foule is faire,\r\n",
      "Houer through the fo\n"
     ]
    }
   ],
   "source": [
    "# Run this cell without changes\n",
    "response = requests.get('https://www.gutenberg.org/cache/epub/2264/pg2264.txt')\n",
    "full_text = response.text\n",
    "\n",
    "# The beginning describes the source/copyright, it isn't the actual text\n",
    "# of the play until the 4863th character\n",
    "macbeth = full_text[4863:]\n",
    "\n",
    "# Print string summary\n",
    "print(\"Data type:\", type(macbeth))\n",
    "print()\n",
    "print(\"Number of characters:\", len(macbeth))\n",
    "print()\n",
    "print(\"First 500 characters:\")\n",
    "print(macbeth[:500])"
   ]
  },
  {
   "cell_type": "markdown",
   "metadata": {},
   "source": [
    "## Word Count Summary\n",
    "\n",
    "Create a variable `word_count` that is an integer representing the total count of words in `macbeth`. In order to do this, first create a variable `words_raw` that is a list containing all words in the string.\n",
    "\n",
    "Hint: look at the `.split()` string method ([documentation here](https://docs.python.org/3/library/stdtypes.html#str.split))"
   ]
  },
  {
   "cell_type": "code",
   "execution_count": 5,
   "metadata": {},
   "outputs": [
    {
     "name": "stdout",
     "output_type": "stream",
     "text": [
      "Macbeth contains 20641 words\n",
      "Here are some examples: ['Enter', 'three', 'Witches.', '1.', 'When', 'shall', 'we', 'three', 'meet', 'againe?']\n"
     ]
    }
   ],
   "source": [
    "# Replace None with appropriate code\n",
    "words_raw = macbeth.split()\n",
    "word_count = len(words_raw)\n",
    "\n",
    "print(\"Macbeth contains {} words\".format(word_count))\n",
    "print(\"Here are some examples:\", words_raw[11:21])"
   ]
  },
  {
   "cell_type": "markdown",
   "metadata": {},
   "source": [
    "## Unique Word Count\n",
    "\n",
    "Create a variable `unique_word_count` that is an integer representing the count of unique words in Macbeth.\n",
    "\n",
    "In order to create an accurate count, first create a variable `words_cleaned` that contains each word stripped of punctuation and made lowercase. Then assign `unique_word_count` to the count of words in `words_cleaned`.\n",
    "\n",
    "Hint: look at the `.strip()` string method ([documentation here](https://docs.python.org/3/library/stdtypes.html#str.strip)). Note that you need to strip each individual word, not just the whole `macbeth` string.\n",
    "\n",
    "**Reminder:** strings are an *immutable* data type. That means that in order to modify their values, you have to reassign them with `=`. So, for example, if you wanted to make the variable `name` be title case, you need to do `name = name.title()`, not just `name.title()`."
   ]
  },
  {
   "cell_type": "code",
   "execution_count": 6,
   "metadata": {},
   "outputs": [
    {
     "name": "stdout",
     "output_type": "stream",
     "text": [
      "Cleaned word examples: ['enter', 'three', 'witches', '1', 'when', 'shall', 'we', 'three', 'meet', 'againe']\n"
     ]
    }
   ],
   "source": [
    "# Replace None with appropriate code\n",
    "\n",
    "# You can use this punctuation string for defining what characters to remove\n",
    "import string\n",
    "punctuation = string.punctuation\n",
    "\n",
    "words_cleaned = []\n",
    "\n",
    "for word in words_raw:\n",
    "    # Remove punctuation\n",
    "    cleaned_word = word.strip(punctuation)\n",
    "    # Make lowercase\n",
    "    cleaned_word = cleaned_word.lower()\n",
    "    # Append to words_cleaned\n",
    "    words_cleaned.append(cleaned_word)\n",
    "\n",
    "# Use this print statement to double-check that everything\n",
    "# is lowercase and has punctuation removed\n",
    "print(\"Cleaned word examples:\", words_cleaned[11:21])"
   ]
  },
  {
   "cell_type": "code",
   "execution_count": 7,
   "metadata": {},
   "outputs": [
    {
     "name": "stdout",
     "output_type": "stream",
     "text": [
      "Macbeth contains 20641 unique words\n"
     ]
    }
   ],
   "source": [
    "# Replace None with appropriate code\n",
    "unique_word_count = len(words_cleaned)\n",
    "\n",
    "print(\"Macbeth contains {} unique words\".format(unique_word_count))"
   ]
  },
  {
   "cell_type": "markdown",
   "metadata": {},
   "source": [
    "## Frequency Table\n",
    "\n",
    "Now that we have a general sense of how *many* words there are, let's investigate how *frequently* each of those words appears in the dataset. Build a frequency table called `word_counts` where the keys are the words (strings) and the values are the number of times that string appears. Then set `most_frequent_word` to the word that occurs most frequently and `least_frequent_word` to the word that occurs least frequently.\n",
    "\n",
    "To accomplish this, use the same algorithm used in the **Implementing Statistics with Functions** lab earlier, specifically the function to find the mode. This time we will provide you with some clues, but fewer than before. Remember that you can look at that lab (and its solution) or the solution to this lab if you are getting really stuck.\n",
    "\n",
    "The general algorithm for building a frequency table is:\n",
    "\n",
    "1. Initialize an empty dictionary (`word_counts`)\n",
    "2. Loop over every element in the collection (`words_cleaned`) and add to the dictionary\n",
    "    - If the element is not already in the dictionary keys, add a new key-value pair with the value 1\n",
    "    - If the element is already in the dictionary keys, add 1 to the associated value\n"
   ]
  },
  {
   "cell_type": "code",
   "execution_count": 8,
   "metadata": {},
   "outputs": [
    {
     "name": "stdout",
     "output_type": "stream",
     "text": [
      "<class 'dict'>\n",
      "4102\n"
     ]
    }
   ],
   "source": [
    "# Your code here\n",
    "\n",
    "word_counts = {}\n",
    "for word in words_cleaned:\n",
    "    if word not in word_counts:\n",
    "        word_counts[word] = 1\n",
    "    else: word_counts[word] += 1\n",
    "\n",
    "print(type(word_counts)) # <class 'dict'>\n",
    "print(len(word_counts))  # 4102 "
   ]
  },
  {
   "cell_type": "markdown",
   "metadata": {},
   "source": [
    "Now it's time to find `most_frequent_word` and `least_frequent_word`. Again, this follows the logic of the mode function from the previous lab.\n",
    "\n",
    "The general algorithm for finding the most frequent word is:\n",
    "\n",
    "1. Find the *maximum* value in the dictionary (`word_counts`)\n",
    "2. Loop over all items in the dictionary until you find the key associated with that *maximum* value\n",
    "\n",
    "Then the algorithm for finding the least frequent is just the inverse:\n",
    "\n",
    "1. Find the *minimum* value in the dictionary\n",
    "2. Loop over all items in the dictionary until you find the key associated with that *minimum* value\n",
    "\n",
    "Think about how you might accomplish this with a single loop, but don't worry if it takes you two loops (just look at the solution when you are done and compare)."
   ]
  },
  {
   "cell_type": "code",
   "execution_count": 9,
   "metadata": {},
   "outputs": [
    {
     "name": "stdout",
     "output_type": "stream",
     "text": [
      "The most frequent word in Macbeth is 'the', which appears 823 times\n",
      "The least frequent word in Macbeth is 'primus', which appears 1 times\n"
     ]
    }
   ],
   "source": [
    "# Your code here\n",
    "\n",
    "highest, lowest = 1, float('inf')\n",
    "most_frequent_word, least_frequent_word = '', ''\n",
    "for key, value in word_counts.items():\n",
    "    if value > highest:\n",
    "        highest = value\n",
    "        most_frequent_word = key\n",
    "    if value < lowest:\n",
    "        lowest = value\n",
    "        least_frequent_word = key\n",
    "\n",
    "print(\"The most frequent word in Macbeth is '{}', which appears {} times\".format(\n",
    "    most_frequent_word, word_counts[most_frequent_word]\n",
    "))\n",
    "print(\"The least frequent word in Macbeth is '{}', which appears {} times\".format(\n",
    "    least_frequent_word, word_counts[least_frequent_word]\n",
    "))"
   ]
  },
  {
   "cell_type": "markdown",
   "metadata": {},
   "source": [
    "## Visualizations\n",
    "\n",
    "### Histogram\n",
    "\n",
    "At last, it's time for some visualizations! First, let's make a **histogram** to visualize the frequency distribution of all 3,577 words (i.e. the distribution of `word_counts.values()`). \n",
    "\n",
    "Details:\n",
    "\n",
    " - We recommend using Matplotlib for this, since it allows you to customize the figure size. A `figsize` of (15,5) will work well for this, since it has a \"long tail\". 100 bins is also a good number.\n",
    " - Make sure you include appropriate labels on the axes and the title\n",
    " - You can use any colors or styles that look good to you"
   ]
  },
  {
   "cell_type": "code",
   "execution_count": 20,
   "metadata": {},
   "outputs": [
    {
     "data": {
      "image/png": "[encoded data removed]",
      "text/plain": [
       "<Figure size 1080x360 with 1 Axes>"
      ]
     },
     "metadata": {
      "needs_background": "light"
     },
     "output_type": "display_data"
    }
   ],
   "source": [
    "# Your code here\n",
    "\n",
    "frequency = sorted(list(word_counts.values()))\n",
    "plt.figure(figsize = (15,5))\n",
    "plt.hist(frequency, bins = 100)\n",
    "plt.xlabel(\"Word_Frequency\")\n",
    "plt.ylabel('Number_of_words')\n",
    "plt.title('Histogram of Word Frequency Distribution');"
   ]
  },
  {
   "cell_type": "markdown",
   "metadata": {},
   "source": [
    "Wow, that is a very skewed dataset! It looks like the overwhelming majority of words appear about 20 times or fewer, but we also have words (like 'the', the most common word discovered above) that appear hundreds of times. Those very frequent words are so rare that we can't even see their associated counts, the bars are so small.\n",
    "\n",
    "### Bar Graph\n",
    "\n",
    "Let's move on to making a bar graph of the most frequent words, to gain more insight into that end of the distribution's \"tail\". To do this, we need to sort the contents of `word_counts` by value, and then select only the top 25 key-value pairs.\n",
    "\n",
    "For this task we are giving you even fewer hints than before. Check out the [Sorting HOW TO](https://docs.python.org/3/howto/sorting.html) Python documentation, especially the `student_tuples` example. Part of being a data scientist is figuring out how to do tasks that you may not have done before. Remember, in these situations, Google is your friend!"
   ]
  },
  {
   "cell_type": "code",
   "execution_count": 33,
   "metadata": {},
   "outputs": [
    {
     "name": "stdout",
     "output_type": "stream",
     "text": [
      "Tick values: [0, 1, 2, 3, 4, 5, 6, 7, 8, 9, 10, 11, 12, 13, 14, 15, 16, 17, 18, 19, 20, 21, 22, 23, 24]\n",
      "\n",
      "Labels: ['the', 'and', 'to', 'of', 'i', 'a', 'you', 'in', 'that', 'my', 'is', 'with', 'not', 'it', 'be', 'his', 'this', 'macb', 'your', 'for', 'our', 'but', 'haue', 'all', 'me']\n",
      "\n",
      "Frequencies: [823, 609, 464, 454, 331, 296, 273, 257, 242, 203, 201, 198, 192, 173, 154, 146, 146, 137, 135, 134, 127, 124, 122, 113, 113]\n"
     ]
    }
   ],
   "source": [
    "# Replace None with appropriate code\n",
    "\n",
    "# This converts word_counts into a list of tuples,\n",
    "# similar to student_tuples\n",
    "counts_list = list(word_counts.items())\n",
    "\n",
    "# Sort the list of tuples by the frequency (second element in each tuple)\n",
    "# Make sure it goes from most to least frequent\n",
    "counts_list_sorted = sorted(counts_list, key = lambda frequency: frequency[1], reverse=True)\n",
    "\n",
    "# Slice the sorted list to just the first 25 tuples\n",
    "top_25 = counts_list_sorted[:25]\n",
    "\n",
    "# Make a list of dummy numbers to populate the axis with the words\n",
    "ticks = list(range(len(top_25)))\n",
    "\n",
    "# Get just the words from top_25 and assign to labels\n",
    "labels = [i[0] for i in top_25]\n",
    "\n",
    "# Get just the frequencies from top_25 and assign to frequencies\n",
    "frequencies = [j[1] for j in top_25]\n",
    "\n",
    "print(\"Tick values:\", ticks)\n",
    "print()\n",
    "print(\"Labels:\", labels)\n",
    "print()\n",
    "print(\"Frequencies:\", frequencies)"
   ]
  },
  {
   "cell_type": "markdown",
   "metadata": {},
   "source": [
    "Now that we have our data, let's make a bar graph. Just to keep it interesting, let's make this a ***horizontal*** **bar graph**. Horizontal bar graphs are useful when you have a lot of text labels — it avoids having to turn the labels diagonally or even sideways in order for them to fit next to each other.\n",
    "\n",
    "**Matplotlib:** In a horizontal bar graph with Matplotlib, `y` is where you pass in the dummy tick values, and `width` is where you pass in the frequencies (vs. `x` and `height` in a standard bar chart). Full documentation for `.barh()`, the horizontal bar chart method, [here](https://matplotlib.org/3.1.1/api/_as_gen/matplotlib.axes.Axes.barh.html#matplotlib.axes.Axes.barh).\n",
    "\n",
    "**Seaborn:** With Seaborn, you still use the `.barplot()` function, just with the `orient` argument set to `\"h\"`. You'll want to pass in the dummy tick values as `y` and frequencies as `x`. Full documentation [here](https://seaborn.pydata.org/generated/seaborn.barplot.html).\n",
    "\n",
    "Details:\n",
    "\n",
    " - You can use either Matplotlib or Seaborn\n",
    " - Make sure you include appropriate labels on the axes and the title\n",
    " - You can use any colors or styles that look good to you"
   ]
  },
  {
   "cell_type": "code",
   "execution_count": 43,
   "metadata": {},
   "outputs": [
    {
     "data": {
      "image/png": "[encoded data removed]",
      "text/plain": [
       "<Figure size 1080x720 with 1 Axes>"
      ]
     },
     "metadata": {
      "needs_background": "light"
     },
     "output_type": "display_data"
    }
   ],
   "source": [
    "# Your code here\n",
    "plt.figure(figsize=(15,10))\n",
    "plt.barh(ticks, frequencies, edgecolor = 'black')\n",
    "plt.yticks(ticks, labels)\n",
    "plt.xlabel('Frequency of Words')\n",
    "plt.ylabel('Words')\n",
    "plt.title('Top 25 Most Frequent Words in Macbeth');"
   ]
  },
  {
   "cell_type": "markdown",
   "metadata": {},
   "source": [
    "## Level Up (Optional)\n",
    "This cumulative lab should take you about an hour and a half to complete. If you're done much more quickly than that and are not behind in the course, feel free to deepen your knowledge by completing any or all of the following tasks until you run out of time (creating a relevant visualization for each):\n",
    "\n",
    "* **When counting words, skip** ***stopwords***\n",
    "  * Stopwords are commonly-occurring words that NLP analysts often disregard. Most of the top 25 words in our current version are stopwords (\"the\", \"and\", etc.). Try redoing both the histogram and the horizontal bar chart with stopwords removed\n",
    "  * Mechanically, that means skipping adding a word to `word_counts` if it is a stop word. Try using this list of stopwords:\n",
    "```\n",
    "[\"i\", \"me\", \"my\", \"myself\", \"we\", \"our\", \"ours\", \"ourselves\", \"you\", \"your\", \"yours\", \"yourself\", \"yourselves\", \"he\", \"him\", \"his\", \"himself\", \"she\", \"her\", \"hers\", \"herself\", \"it\", \"its\", \"itself\", \"they\", \"them\", \"their\", \"theirs\", \"themselves\", \"what\", \"which\", \"who\", \"whom\", \"this\", \"that\", \"these\", \"those\", \"am\", \"is\", \"are\", \"was\", \"were\", \"be\", \"been\", \"being\", \"have\", \"has\", \"had\", \"having\", \"do\", \"does\", \"did\", \"doing\", \"a\", \"an\", \"the\", \"and\", \"but\", \"if\", \"or\", \"because\", \"as\", \"until\", \"while\", \"of\", \"at\", \"by\", \"for\", \"with\", \"about\", \"against\", \"between\", \"into\", \"through\", \"during\", \"before\", \"after\", \"above\", \"below\", \"to\", \"from\", \"up\", \"down\", \"in\", \"out\", \"on\", \"off\", \"over\", \"under\", \"again\", \"further\", \"then\", \"once\", \"here\", \"there\", \"when\", \"where\", \"why\", \"how\", \"all\", \"any\", \"both\", \"each\", \"few\", \"more\", \"most\", \"other\", \"some\", \"such\", \"no\", \"nor\", \"not\", \"only\", \"own\", \"same\", \"so\", \"than\", \"too\", \"very\", \"s\", \"t\", \"can\", \"will\", \"just\", \"don\", \"should\", \"now\"]\n",
    "```\n",
    "* **Create a list of top characters by mentions of their names**\n",
    "  * Mechanically, that means only adding a word to `word_counts` if it is the name of a character. Try using this list of single-word characters (leaving out characters like \"Young Seyward\", and \"Lady Macduff\" is referred to as \"wife\" in this version):\n",
    "```\n",
    "[\"duncan\", \"malcolm\", \"donalbaine\", \"macbeth\", \"banquo\", \"macduff\", \"lenox\", \"rosse\", \"menteth\", \"angus\", \"cathnes\", \"fleance\", \"seyward\", \"seyton\", \"boy\", \"lady\", \"messenger\", \"wife\"]\n",
    "```\n",
    "* **Split the text by which character is talking**\n",
    "  * A character speaking is indicated by an (often-abbreviated) version of their name followed by a `.` as the first thing on a line. So for example, when Macbeth speaks it starts with `\"Macb.\"` (notice how `\"macb\"` appears in the top 25 words — that is Macbeth speaking). You'll need to revise how you handle punctuation, since you can't just strip all punctuation\n",
    "* **Create subgraphs of the most common words by character**\n",
    "* **Come up with some other fun analyses of the text!**\n",
    "\n",
    "There is no solution version of these level-up options. If you're having too much trouble, it's fine to move on without completing any of them!"
   ]
  },
  {
   "cell_type": "code",
   "execution_count": null,
   "metadata": {},
   "outputs": [],
   "source": [
    "# Your code here"
   ]
  },
  {
   "cell_type": "markdown",
   "metadata": {},
   "source": [
    "## Summary\n",
    "Congratulations! You've got some extra practice combining various data types into useful programming patterns and done an initial analysis of a classic text!"
   ]
  }
 ],
 "metadata": {
  "kernelspec": {
   "display_name": "Python 3",
   "language": "python",
   "name": "python3"
  },
  "language_info": {
   "codemirror_mode": {
    "name": "ipython",
    "version": 3
   },
   "file_extension": ".py",
   "mimetype": "text/x-python",
   "name": "python",
   "nbconvert_exporter": "python",
   "pygments_lexer": "ipython3",
   "version": "3.8.5"
  }
 },
 "nbformat": 4,
 "nbformat_minor": 2
}
